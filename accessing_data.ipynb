{
 "cells": [
  {
   "cell_type": "markdown",
   "id": "2b13c29b",
   "metadata": {},
   "source": [
    "# Accessing data\n",
    "\n",
    "The dataset for each topology can be loaded using NumPy in python. After loading (np.load(file)), the following keys can be used:\n",
    "\n",
    "- positions; array of shape (N_configs $\\times$ N_atoms $\\times$ 3)\n",
    "\n",
    "- energies; 1-d array of N_configs datapoints\n",
    "\n",
    "- forces; array of shape (N_configs $\\times$ N_atoms $\\times$ 3)\n",
    "\n",
    "- symbols; 1-d array of N_atoms symbols (consistent for all configs)\n",
    "\n",
    "- cells; array of shape (N_configs $\\times$ 3 $\\times$ 3) (NVT and NPT MD used, so some cells are equal, others are not)"
   ]
  },
  {
   "cell_type": "code",
   "execution_count": 5,
   "id": "7b032a6c",
   "metadata": {},
   "outputs": [],
   "source": [
    "import numpy as np\n",
    "\n",
    "cha_data = np.load('data/cha.npz')"
   ]
  },
  {
   "cell_type": "code",
   "execution_count": 26,
   "id": "ac5b3c2d",
   "metadata": {},
   "outputs": [
    {
     "name": "stdout",
     "output_type": "stream",
     "text": [
      "(1659, 108, 3)\n"
     ]
    }
   ],
   "source": [
    "positions = cha_data['positions']\n",
    "print(positions.shape)"
   ]
  },
  {
   "cell_type": "code",
   "execution_count": 13,
   "id": "2f714091",
   "metadata": {},
   "outputs": [
    {
     "name": "stdout",
     "output_type": "stream",
     "text": [
      "(1659,)\n"
     ]
    }
   ],
   "source": [
    "energies = cha_data['energies']\n",
    "print(energies.shape)"
   ]
  },
  {
   "cell_type": "code",
   "execution_count": 14,
   "id": "8aced835",
   "metadata": {},
   "outputs": [
    {
     "name": "stdout",
     "output_type": "stream",
     "text": [
      "(1659, 108, 3)\n"
     ]
    }
   ],
   "source": [
    "forces = cha_data['forces']\n",
    "print(forces.shape)"
   ]
  },
  {
   "cell_type": "code",
   "execution_count": 15,
   "id": "f2da4436",
   "metadata": {},
   "outputs": [
    {
     "name": "stdout",
     "output_type": "stream",
     "text": [
      "['O' 'O' 'O' 'O' 'O' 'O' 'O' 'O' 'O' 'O' 'O' 'O' 'O' 'O' 'O' 'O' 'O' 'O'\n",
      " 'O' 'O' 'O' 'O' 'O' 'O' 'O' 'O' 'O' 'O' 'O' 'O' 'O' 'O' 'O' 'O' 'O' 'O'\n",
      " 'O' 'O' 'O' 'O' 'O' 'O' 'O' 'O' 'O' 'O' 'O' 'O' 'O' 'O' 'O' 'O' 'O' 'O'\n",
      " 'O' 'O' 'O' 'O' 'O' 'O' 'O' 'O' 'O' 'O' 'O' 'O' 'O' 'O' 'O' 'O' 'O' 'O'\n",
      " 'Si' 'Si' 'Si' 'Si' 'Si' 'Si' 'Si' 'Si' 'Si' 'Si' 'Si' 'Si' 'Si' 'Si'\n",
      " 'Si' 'Si' 'Si' 'Si' 'Si' 'Si' 'Si' 'Si' 'Si' 'Si' 'Si' 'Si' 'Si' 'Si'\n",
      " 'Si' 'Si' 'Si' 'Si' 'Si' 'Si' 'Si' 'Si']\n",
      "(108,)\n"
     ]
    }
   ],
   "source": [
    "symbols = cha_data['symbols']\n",
    "print(symbols)\n",
    "print(symbols.shape)"
   ]
  },
  {
   "cell_type": "code",
   "execution_count": 18,
   "id": "f7d30757",
   "metadata": {},
   "outputs": [
    {
     "name": "stdout",
     "output_type": "stream",
     "text": [
      "(1659, 3, 3)\n"
     ]
    }
   ],
   "source": [
    "cells = cha_data['cells']\n",
    "print(cells.shape)"
   ]
  },
  {
   "cell_type": "markdown",
   "id": "d5158aee",
   "metadata": {},
   "source": [
    "### For direct compatability with DeePMD-kit's input, just reshape the positions, forces, and cells:"
   ]
  },
  {
   "cell_type": "code",
   "execution_count": 31,
   "id": "b7db1cb1",
   "metadata": {},
   "outputs": [
    {
     "name": "stdout",
     "output_type": "stream",
     "text": [
      "(1659, 324)\n",
      "(1659, 324)\n",
      "(1659, 9)\n"
     ]
    }
   ],
   "source": [
    "dp_positions = positions.reshape(positions.shape[0], positions.shape[1] * 3)\n",
    "dp_forces = forces.reshape(forces.shape[0], forces.shape[1] * 3)\n",
    "dp_cells = cells.reshape(cells.shape[0], cells.shape[1] * 3)\n",
    "\n",
    "print(dp_positions.shape)\n",
    "print(dp_forces.shape)\n",
    "print(dp_cells.shape)"
   ]
  }
 ],
 "metadata": {
  "kernelspec": {
   "display_name": "Python 3 (ipykernel)",
   "language": "python",
   "name": "python3"
  },
  "language_info": {
   "codemirror_mode": {
    "name": "ipython",
    "version": 3
   },
   "file_extension": ".py",
   "mimetype": "text/x-python",
   "name": "python",
   "nbconvert_exporter": "python",
   "pygments_lexer": "ipython3",
   "version": "3.9.13"
  }
 },
 "nbformat": 4,
 "nbformat_minor": 5
}
